{
 "cells": [
  {
   "cell_type": "markdown",
   "metadata": {},
   "source": [
    "# SI671 Final Project Data Exploration"
   ]
  },
  {
   "cell_type": "code",
   "execution_count": 2,
   "metadata": {},
   "outputs": [],
   "source": [
    "#import packages\n",
    "import pandas as pd\n",
    "import networkx as nx\n",
    "import plotly.graph_objects as go\n",
    "import matplotlib.pyplot as plt\n",
    "import numpy as np\n",
    "import seaborn as sns\n",
    "import warnings\n",
    "warnings.filterwarnings(\"ignore\")"
   ]
  },
  {
   "cell_type": "markdown",
   "metadata": {},
   "source": [
    "#### Import sqf data files from 2017-2018 and clean data"
   ]
  },
  {
   "cell_type": "code",
   "execution_count": 5,
   "metadata": {},
   "outputs": [],
   "source": [
    "#import 2017 data into pandas\n",
    "sqf_17 = pd.read_excel('data/sqf-2017.xlsx')"
   ]
  },
  {
   "cell_type": "code",
   "execution_count": 8,
   "metadata": {},
   "outputs": [],
   "source": [
    "#import 2018 data into pandas\n",
    "sqf_18 = pd.read_excel('data/sqf-2018.xlsx')"
   ]
  },
  {
   "cell_type": "code",
   "execution_count": 10,
   "metadata": {},
   "outputs": [
    {
     "data": {
      "text/plain": [
       "((11629, 83), (11008, 83))"
      ]
     },
     "execution_count": 10,
     "metadata": {},
     "output_type": "execute_result"
    }
   ],
   "source": [
    "sqf_17.shape, sqf_18.shape"
   ]
  },
  {
   "cell_type": "code",
   "execution_count": 12,
   "metadata": {},
   "outputs": [],
   "source": [
    "#combine both dataframes\n",
    "sqf=sqf_17.append(sqf_18, ignore_index=True)"
   ]
  },
  {
   "cell_type": "code",
   "execution_count": 17,
   "metadata": {},
   "outputs": [
    {
     "name": "stdout",
     "output_type": "stream",
     "text": [
      "<class 'pandas.core.frame.DataFrame'>\n",
      "RangeIndex: 22637 entries, 0 to 22636\n",
      "Data columns (total 84 columns):\n",
      "BACKROUND_CIRCUMSTANCES_SUSPECT_KNOWN_TO_CARRY_WEAPON_FLAG      22637 non-null object\n",
      "BACKROUND_CIRCUMSTANCES_VIOLENT_CRIME_FLAG                      22637 non-null object\n",
      "DAY2                                                            22637 non-null object\n",
      "DEMEANOR_CODE                                                   21571 non-null object\n",
      "DEMEANOR_OF_PERSON_STOPPED                                      21484 non-null object\n",
      "FIREARM_FLAG                                                    22637 non-null object\n",
      "FRISKED_FLAG                                                    22637 non-null object\n",
      "ID_CARD_IDENTIFIES_OFFICER_FLAG                                 22637 non-null object\n",
      "ISSUING_OFFICER_COMMAND_CODE                                    22637 non-null int64\n",
      "ISSUING_OFFICER_RANK                                            22637 non-null object\n",
      "JURISDICTION_CODE                                               22637 non-null object\n",
      "JURISDICTION_DESCRIPTION                                        22637 non-null object\n",
      "KNIFE_CUTTER_FLAG                                               22637 non-null object\n",
      "LOCATION_IN_OUT_CODE                                            22637 non-null object\n",
      "MONTH2                                                          22637 non-null object\n",
      "OBSERVED_DURATION_MINUTES                                       22637 non-null int64\n",
      "OFFICER_EXPLAINED_STOP_FLAG                                     22637 non-null object\n",
      "OFFICER_IN_UNIFORM_FLAG                                         22637 non-null object\n",
      "OFFICER_NOT_EXPLAINED_STOP_DESCRIPTION                          22635 non-null object\n",
      "OTHER_CONTRABAND_FLAG                                           22637 non-null object\n",
      "OTHER_PERSON_STOPPED_FLAG                                       22637 non-null object\n",
      "OTHER_WEAPON_FLAG                                               22637 non-null object\n",
      "PHYSICAL_FORCE_CEW_FLAG                                         22637 non-null object\n",
      "PHYSICAL_FORCE_DRAW_POINT_FIREARM_FLAG                          22637 non-null object\n",
      "PHYSICAL_FORCE_HANDCUFF_SUSPECT_FLAG                            22637 non-null object\n",
      "PHYSICAL_FORCE_OC_SPRAY_USED_FLAG                               22637 non-null object\n",
      "PHYSICAL_FORCE_OTHER_FLAG                                       22637 non-null object\n",
      "PHYSICAL_FORCE_RESTRAINT_USED_FLAG                              22637 non-null object\n",
      "PHYSICAL_FORCE_VERBAL_INSTRUCTION_FLAG                          22637 non-null object\n",
      "PHYSICAL_FORCE_WEAPON_IMPACT_FLAG                               22637 non-null object\n",
      "RECORD_STATUS_CODE                                              22637 non-null object\n",
      "SEARCHED_FLAG                                                   22637 non-null object\n",
      "SEARCH_BASIS_ADMISSION_FLAG                                     22637 non-null object\n",
      "SEARCH_BASIS_CONSENT_FLAG                                       22637 non-null object\n",
      "SEARCH_BASIS_HARD_OBJECT_FLAG                                   22637 non-null object\n",
      "SEARCH_BASIS_INCIDENTAL_TO_ARREST_FLAG                          22637 non-null object\n",
      "SEARCH_BASIS_OTHER_FLAG                                         22637 non-null object\n",
      "SEARCH_BASIS_OUTLINE_FLAG                                       22637 non-null object\n",
      "SHIELD_IDENTIFIES_OFFICER_FLAG                                  22637 non-null object\n",
      "STOP_DURATION_MINUTES                                           22637 non-null int64\n",
      "STOP_FRISK_DATE                                                 22637 non-null datetime64[ns]\n",
      "STOP_FRISK_ID                                                   22637 non-null int64\n",
      "STOP_FRISK_TIME                                                 11624 non-null object\n",
      "STOP_LOCATION_APARTMENT                                         22585 non-null object\n",
      "STOP_LOCATION_BORO_NAME                                         22637 non-null object\n",
      "STOP_LOCATION_FULL_ADDRESS                                      22637 non-null object\n",
      "STOP_LOCATION_PATROL_BORO_NAME                                  22637 non-null object\n",
      "STOP_LOCATION_PRECINCT                                          22637 non-null object\n",
      "STOP_LOCATION_PREMISES_NAME                                     22637 non-null object\n",
      "STOP_LOCATION_SECTOR_CODE                                       22637 non-null object\n",
      "STOP_LOCATION_STREET_NAME                                       22637 non-null object\n",
      "STOP_LOCATION_X                                                 22637 non-null object\n",
      "STOP_LOCATION_Y                                                 22637 non-null object\n",
      "STOP_LOCATION_ZIP_CODE                                          22637 non-null object\n",
      "STOP_WAS_INITIATED                                              22637 non-null object\n",
      "SUMMONS_ISSUED_FLAG                                             22637 non-null object\n",
      "SUMMONS_OFFENSE_DESCRIPTION                                     22637 non-null object\n",
      "SUPERVISING_ACTION_CORRESPONDING_ACTIVITY_LOG_ENTRY_REVIEWED    22637 non-null object\n",
      "SUPERVISING_OFFICER_COMMAND_CODE                                22637 non-null int64\n",
      "SUPERVISING_OFFICER_RANK                                        22637 non-null object\n",
      "SUSPECTED_CRIME_DESCRIPTION                                     22637 non-null object\n",
      "SUSPECTS_ACTIONS_CASING_FLAG                                    22637 non-null object\n",
      "SUSPECTS_ACTIONS_CONCEALED_POSSESSION_WEAPON_FLAG               22637 non-null object\n",
      "SUSPECTS_ACTIONS_DECRIPTION_FLAG                                22637 non-null object\n",
      "SUSPECTS_ACTIONS_DRUG_TRANSACTIONS_FLAG                         22637 non-null object\n",
      "SUSPECTS_ACTIONS_IDENTIFY_CRIME_PATTERN_FLAG                    22637 non-null object\n",
      "SUSPECTS_ACTIONS_LOOKOUT_FLAG                                   22637 non-null object\n",
      "SUSPECTS_ACTIONS_OTHER_FLAG                                     22637 non-null object\n",
      "SUSPECTS_ACTIONS_PROXIMITY_TO_SCENE_FLAG                        22637 non-null object\n",
      "SUSPECT_ARRESTED_FLAG                                           22637 non-null object\n",
      "SUSPECT_ARREST_OFFENSE                                          22637 non-null object\n",
      "SUSPECT_BODY_BUILD_TYPE                                         22637 non-null object\n",
      "SUSPECT_EYE_COLOR                                               22637 non-null object\n",
      "SUSPECT_HAIR_COLOR                                              22637 non-null object\n",
      "SUSPECT_HEIGHT                                                  22637 non-null object\n",
      "SUSPECT_OTHER_DESCRIPTION                                       20743 non-null object\n",
      "SUSPECT_RACE_DESCRIPTION                                        22637 non-null object\n",
      "SUSPECT_REPORTED_AGE                                            22637 non-null object\n",
      "SUSPECT_SEX                                                     22637 non-null object\n",
      "SUSPECT_WEIGHT                                                  22637 non-null object\n",
      "Stop Frisk Time                                                 11006 non-null object\n",
      "VERBAL_IDENTIFIES_OFFICER_FLAG                                  22637 non-null object\n",
      "WEAPON_FOUND_FLAG                                               22637 non-null object\n",
      "YEAR2                                                           22637 non-null int64\n",
      "dtypes: datetime64[ns](1), int64(6), object(77)\n",
      "memory usage: 14.5+ MB\n"
     ]
    }
   ],
   "source": [
    "sqf.info()"
   ]
  },
  {
   "cell_type": "markdown",
   "metadata": {},
   "source": [
    "#### Basic Data Stats"
   ]
  },
  {
   "cell_type": "code",
   "execution_count": 31,
   "metadata": {},
   "outputs": [
    {
     "data": {
      "text/plain": [
       "N    15078\n",
       "Y     7558\n",
       "(        1\n",
       "Name: SEARCHED_FLAG, dtype: int64"
      ]
     },
     "execution_count": 31,
     "metadata": {},
     "output_type": "execute_result"
    }
   ],
   "source": [
    "#how many times have people been searched in the data \n",
    "sqf['SEARCHED_FLAG'].value_counts()"
   ]
  },
  {
   "cell_type": "code",
   "execution_count": 24,
   "metadata": {},
   "outputs": [
    {
     "data": {
      "text/plain": [
       "Y    13561\n",
       "N     9075\n",
       "V        1\n",
       "Name: FRISKED_FLAG, dtype: int64"
      ]
     },
     "execution_count": 24,
     "metadata": {},
     "output_type": "execute_result"
    }
   ],
   "source": [
    "#how many times have people been frisked in the data \n",
    "sqf['FRISKED_FLAG'].value_counts()"
   ]
  },
  {
   "cell_type": "code",
   "execution_count": 25,
   "metadata": {},
   "outputs": [
    {
     "data": {
      "text/plain": [
       "(null)    21981\n",
       "Y           656\n",
       "Name: FIREARM_FLAG, dtype: int64"
      ]
     },
     "execution_count": 25,
     "metadata": {},
     "output_type": "execute_result"
    }
   ],
   "source": [
    "#how many times have people been suspected with a firearm \n",
    "sqf['FIREARM_FLAG'].value_counts()"
   ]
  },
  {
   "cell_type": "code",
   "execution_count": 34,
   "metadata": {},
   "outputs": [
    {
     "data": {
      "text/plain": [
       "(null)    21459\n",
       "Y          1178\n",
       "Name: KNIFE_CUTTER_FLAG, dtype: int64"
      ]
     },
     "execution_count": 34,
     "metadata": {},
     "output_type": "execute_result"
    }
   ],
   "source": [
    "#how many times have people been suspected with a knive cutter\n",
    "sqf['KNIFE_CUTTER_FLAG'].value_counts()"
   ]
  },
  {
   "cell_type": "code",
   "execution_count": 33,
   "metadata": {},
   "outputs": [
    {
     "data": {
      "text/plain": [
       "(null)    22338\n",
       "Y           299\n",
       "Name: OTHER_WEAPON_FLAG, dtype: int64"
      ]
     },
     "execution_count": 33,
     "metadata": {},
     "output_type": "execute_result"
    }
   ],
   "source": [
    "#how many times have people been suspected with a \"other\" weapon \n",
    "sqf['OTHER_WEAPON_FLAG'].value_counts()"
   ]
  },
  {
   "cell_type": "code",
   "execution_count": 32,
   "metadata": {},
   "outputs": [
    {
     "data": {
      "text/plain": [
       "N    20622\n",
       "Y     2001\n",
       "(       14\n",
       "Name: WEAPON_FOUND_FLAG, dtype: int64"
      ]
     },
     "execution_count": 32,
     "metadata": {},
     "output_type": "execute_result"
    }
   ],
   "source": [
    "#how many times have people been suspected with a firearm \n",
    "sqf['WEAPON_FOUND_FLAG'].value_counts()"
   ]
  },
  {
   "cell_type": "code",
   "execution_count": 29,
   "metadata": {},
   "outputs": [
    {
     "data": {
      "text/plain": [
       "N    16061\n",
       "Y     6576\n",
       "Name: SUSPECT_ARRESTED_FLAG, dtype: int64"
      ]
     },
     "execution_count": 29,
     "metadata": {},
     "output_type": "execute_result"
    }
   ],
   "source": [
    "#how may people were arrested \n",
    "sqf['SUSPECT_ARRESTED_FLAG'].value_counts() #SUSPECT_ARRESTED_OFFENSE for details"
   ]
  },
  {
   "cell_type": "code",
   "execution_count": 30,
   "metadata": {},
   "outputs": [
    {
     "data": {
      "text/plain": [
       "N    21950\n",
       "Y      686\n",
       "(        1\n",
       "Name: SUMMONS_ISSUED_FLAG, dtype: int64"
      ]
     },
     "execution_count": 30,
     "metadata": {},
     "output_type": "execute_result"
    }
   ],
   "source": [
    "#how may people were arrested \n",
    "sqf['SUMMONS_ISSUED_FLAG'].value_counts() #SUMMONS_OFFENSE_DESCRIPTION for details"
   ]
  },
  {
   "cell_type": "code",
   "execution_count": 35,
   "metadata": {},
   "outputs": [
    {
     "data": {
      "text/plain": [
       "CPW                                            6119\n",
       "ROBBERY                                        3316\n",
       "ASSAULT                                        2793\n",
       "PETIT LARCENY                                  1865\n",
       "BURGLARY                                       1672\n",
       "CRIMINAL TRESPASS                              1441\n",
       "OTHER                                           998\n",
       "GRAND LARCENY                                   885\n",
       "GRAND LARCENY AUTO                              750\n",
       "CRIMINAL POSSESSION OF MARIHUANA                509\n",
       "MENACING                                        412\n",
       "CRIMINAL MISCHIEF                               395\n",
       "CRIMINAL SALE OF CONTROLLED SUBSTANCE           203\n",
       "CRIMINAL POSSESSION OF CONTROLLED SUBSTANCE     184\n",
       "UNAUTHORIZED USE OF A VEHICLE                   175\n",
       "CPSP                                            126\n",
       "THEFT OF SERVICES                               119\n",
       "AUTO STRIPPIG                                   110\n",
       "RECKLESS ENDANGERMENT                           107\n",
       "MAKING GRAFFITI                                 105\n",
       "FORCIBLE TOUCHING                                80\n",
       "CRIMINAL SALE OF MARIHUANA                       77\n",
       "RAPE                                             55\n",
       "MURDER                                           43\n",
       "CRIMINAL POSSESSION OF FORGED INSTRUMENT         42\n",
       "TERRORISM                                        25\n",
       "PROSTITUTION                                     22\n",
       "MISD                                              4\n",
       "MISDEMEANOR                                       4\n",
       "FELONY                                            1\n",
       "Name: SUSPECTED_CRIME_DESCRIPTION, dtype: int64"
      ]
     },
     "execution_count": 35,
     "metadata": {},
     "output_type": "execute_result"
    }
   ],
   "source": [
    "#suspected crime description\n",
    "sqf['SUSPECTED_CRIME_DESCRIPTION'].value_counts()"
   ]
  },
  {
   "cell_type": "code",
   "execution_count": 39,
   "metadata": {},
   "outputs": [
    {
     "data": {
      "text/plain": [
       "(null)                                         16059\n",
       "CPW                                             1254\n",
       "CRIMINAL TRESPASS                               1029\n",
       "ROBBERY                                          835\n",
       "PETIT LARCENY                                    657\n",
       "ASSAULT                                          635\n",
       "OTHER                                            481\n",
       "CRIMINAL POSSESSION OF CONTROLLED SUBSTANCE      315\n",
       "BURGLARY                                         227\n",
       "GRAND LARCENY                                    226\n",
       "CRIMINAL MISCHIEF                                153\n",
       "MENACING                                         119\n",
       "CRIMINAL POSSESSION OF MARIHUANA                 103\n",
       "CPSP                                              94\n",
       "UNAUTHORIZED USE OF A VEHICLE                     89\n",
       "GRAND LARCENY AUTO                                69\n",
       "CRIMINAL SALE OF CONTROLLED SUBSTANCE             66\n",
       "THEFT OF SERVICES                                 47\n",
       "CRIMINAL POSSESSION OF FORGED INSTRUMENT          36\n",
       "MAKING GRAFFITI                                   31\n",
       "FORCIBLE TOUCHING                                 26\n",
       "RECKLESS ENDANGERMENT                             21\n",
       "RAPE                                              20\n",
       "AUTO STRIPPIG                                     15\n",
       "MURDER                                            14\n",
       "PROSTITUTION                                       6\n",
       "CRIMINAL SALE OF MARIHUANA                         6\n",
       "TERRORISM                                          2\n",
       "CPCS                                               1\n",
       "THEFT OF SERVICE                                   1\n",
       "Name: SUSPECT_ARREST_OFFENSE, dtype: int64"
      ]
     },
     "execution_count": 39,
     "metadata": {},
     "output_type": "execute_result"
    }
   ],
   "source": [
    "#actual arrest description\n",
    "sqf['SUSPECT_ARREST_OFFENSE'].value_counts()"
   ]
  },
  {
   "cell_type": "code",
   "execution_count": 40,
   "metadata": {},
   "outputs": [
    {
     "data": {
      "text/plain": [
       "Y    22420\n",
       "N      217\n",
       "Name: OFFICER_EXPLAINED_STOP_FLAG, dtype: int64"
      ]
     },
     "execution_count": 40,
     "metadata": {},
     "output_type": "execute_result"
    }
   ],
   "source": [
    "sqf['OFFICER_EXPLAINED_STOP_FLAG'].value_counts()"
   ]
  },
  {
   "cell_type": "code",
   "execution_count": 41,
   "metadata": {},
   "outputs": [
    {
     "data": {
      "text/plain": [
       "SGT    18439\n",
       "LT      3371\n",
       "SSA      501\n",
       "LSA      115\n",
       "POM       80\n",
       "CPT       54\n",
       "SDS       29\n",
       "DI        16\n",
       "POF       16\n",
       "LCD       14\n",
       "DTS        2\n",
       "Name: SUPERVISING_OFFICER_RANK, dtype: int64"
      ]
     },
     "execution_count": 41,
     "metadata": {},
     "output_type": "execute_result"
    }
   ],
   "source": [
    "sqf['SUPERVISING_OFFICER_RANK'].value_counts()"
   ]
  },
  {
   "cell_type": "code",
   "execution_count": 42,
   "metadata": {},
   "outputs": [
    {
     "data": {
      "text/plain": [
       "Based on Radio Run         12941\n",
       "Based on Self Initiated     6333\n",
       "Based on C/W on Scene       3349\n",
       "(null)                        13\n",
       "                               1\n",
       "Name: STOP_WAS_INITIATED, dtype: int64"
      ]
     },
     "execution_count": 42,
     "metadata": {},
     "output_type": "execute_result"
    }
   ],
   "source": [
    "sqf['STOP_WAS_INITIATED'].value_counts()"
   ]
  },
  {
   "cell_type": "code",
   "execution_count": 28,
   "metadata": {},
   "outputs": [
    {
     "data": {
      "text/plain": [
       "74"
      ]
     },
     "execution_count": 28,
     "metadata": {},
     "output_type": "execute_result"
    }
   ],
   "source": [
    "#the demeanor of the person types\n",
    "sqf['DEMEANOR_OF_PERSON_STOPPED'].value_counts().nunique()"
   ]
  },
  {
   "cell_type": "code",
   "execution_count": 36,
   "metadata": {},
   "outputs": [
    {
     "data": {
      "text/plain": [
       "DE    14576\n",
       "CM     6994\n",
       "(n        1\n",
       "Name: DEMEANOR_CODE, dtype: int64"
      ]
     },
     "execution_count": 36,
     "metadata": {},
     "output_type": "execute_result"
    }
   ],
   "source": [
    "#The code of the demenor ? Not sure what this is\n",
    "sqf['DEMEANOR_CODE'].value_counts()"
   ]
  },
  {
   "cell_type": "code",
   "execution_count": 43,
   "metadata": {},
   "outputs": [
    {
     "data": {
      "text/plain": [
       "BLACK                             12836\n",
       "WHITE HISPANIC                     4981\n",
       "WHITE                              2051\n",
       "BLACK HISPANIC                     1975\n",
       "(null)                              335\n",
       "ASIAN / PACIFIC ISLANDER            221\n",
       "ASIAN/PAC.ISL                       206\n",
       "AMERICAN INDIAN/ALASKAN NATIVE       16\n",
       "AMER IND                              9\n",
       "MALE                                  7\n",
       "Name: SUSPECT_RACE_DESCRIPTION, dtype: int64"
      ]
     },
     "execution_count": 43,
     "metadata": {},
     "output_type": "execute_result"
    }
   ],
   "source": [
    "sqf['SUSPECT_RACE_DESCRIPTION'].value_counts()"
   ]
  },
  {
   "cell_type": "markdown",
   "metadata": {},
   "source": [
    "#### Objective 1: What is the correlation between location and being stopped?"
   ]
  },
  {
   "cell_type": "code",
   "execution_count": 44,
   "metadata": {},
   "outputs": [],
   "source": [
    "df_loc=sqf[['STOP_LOCATION_BORO_NAME', 'FRISKED_FLAG', 'SEARCHED_FLAG']]"
   ]
  },
  {
   "cell_type": "code",
   "execution_count": 51,
   "metadata": {},
   "outputs": [],
   "source": [
    "# Get names of indexes for which column Age has value 30\n",
    "boro = ['BROOKLYN', 'MANHATTAN', 'BRONX', 'QUEENS', 'STATEN IS', 'STATEN ISLAND']\n",
    " \n",
    "# Delete these row indexes from dataFrame\n",
    "new_df = df_loc[df_loc.STOP_LOCATION_BORO_NAME.isin(boro)]\n",
    "\n",
    "#change add staten island\n",
    "new_df['STOP_LOCATION_BORO_NAME'].replace('STATEN IS', 'STATEN ISLAND',inplace=True)"
   ]
  },
  {
   "cell_type": "code",
   "execution_count": 52,
   "metadata": {},
   "outputs": [
    {
     "data": {
      "text/html": [
       "<div>\n",
       "<style scoped>\n",
       "    .dataframe tbody tr th:only-of-type {\n",
       "        vertical-align: middle;\n",
       "    }\n",
       "\n",
       "    .dataframe tbody tr th {\n",
       "        vertical-align: top;\n",
       "    }\n",
       "\n",
       "    .dataframe thead th {\n",
       "        text-align: right;\n",
       "    }\n",
       "</style>\n",
       "<table border=\"1\" class=\"dataframe\">\n",
       "  <thead>\n",
       "    <tr style=\"text-align: right;\">\n",
       "      <th></th>\n",
       "      <th>STOP_LOCATION_BORO_NAME</th>\n",
       "      <th>FRISKED_FLAG</th>\n",
       "      <th>SEARCHED_FLAG</th>\n",
       "    </tr>\n",
       "  </thead>\n",
       "  <tbody>\n",
       "    <tr>\n",
       "      <td>0</td>\n",
       "      <td>MANHATTAN</td>\n",
       "      <td>N</td>\n",
       "      <td>N</td>\n",
       "    </tr>\n",
       "    <tr>\n",
       "      <td>1</td>\n",
       "      <td>MANHATTAN</td>\n",
       "      <td>N</td>\n",
       "      <td>N</td>\n",
       "    </tr>\n",
       "    <tr>\n",
       "      <td>2</td>\n",
       "      <td>MANHATTAN</td>\n",
       "      <td>N</td>\n",
       "      <td>N</td>\n",
       "    </tr>\n",
       "    <tr>\n",
       "      <td>3</td>\n",
       "      <td>MANHATTAN</td>\n",
       "      <td>Y</td>\n",
       "      <td>Y</td>\n",
       "    </tr>\n",
       "    <tr>\n",
       "      <td>4</td>\n",
       "      <td>MANHATTAN</td>\n",
       "      <td>N</td>\n",
       "      <td>N</td>\n",
       "    </tr>\n",
       "  </tbody>\n",
       "</table>\n",
       "</div>"
      ],
      "text/plain": [
       "  STOP_LOCATION_BORO_NAME FRISKED_FLAG SEARCHED_FLAG\n",
       "0               MANHATTAN            N             N\n",
       "1               MANHATTAN            N             N\n",
       "2               MANHATTAN            N             N\n",
       "3               MANHATTAN            Y             Y\n",
       "4               MANHATTAN            N             N"
      ]
     },
     "execution_count": 52,
     "metadata": {},
     "output_type": "execute_result"
    }
   ],
   "source": [
    "new_df.head()"
   ]
  },
  {
   "cell_type": "code",
   "execution_count": 56,
   "metadata": {},
   "outputs": [
    {
     "data": {
      "image/png": "[encoded data removed]",
      "text/plain": [
       "<Figure size 432x288 with 1 Axes>"
      ]
     },
     "metadata": {
      "needs_background": "light"
     },
     "output_type": "display_data"
    }
   ],
   "source": [
    "ax = sns.countplot(x='STOP_LOCATION_BORO_NAME', hue='FRISKED_FLAG', order = new_df['STOP_LOCATION_BORO_NAME'].value_counts().index, data=new_df)"
   ]
  },
  {
   "cell_type": "code",
   "execution_count": 55,
   "metadata": {},
   "outputs": [
    {
     "data": {
      "image/png": "[encoded data removed]",
      "text/plain": [
       "<Figure size 432x288 with 1 Axes>"
      ]
     },
     "metadata": {
      "needs_background": "light"
     },
     "output_type": "display_data"
    }
   ],
   "source": [
    "ax = sns.countplot(x='STOP_LOCATION_BORO_NAME', hue='SEARCHED_FLAG',order = new_df['STOP_LOCATION_BORO_NAME'].value_counts().index, data=new_df)"
   ]
  },
  {
   "cell_type": "markdown",
   "metadata": {},
   "source": [
    "#### Objective 2: What is the likelihood of being frisked when already stopped?"
   ]
  },
  {
   "cell_type": "code",
   "execution_count": 57,
   "metadata": {},
   "outputs": [
    {
     "data": {
      "text/plain": [
       "Y    13561\n",
       "N     9075\n",
       "V        1\n",
       "Name: FRISKED_FLAG, dtype: int64"
      ]
     },
     "execution_count": 57,
     "metadata": {},
     "output_type": "execute_result"
    }
   ],
   "source": [
    "#how many times have people been frisked in the data \n",
    "sqf['FRISKED_FLAG'].value_counts()"
   ]
  },
  {
   "cell_type": "code",
   "execution_count": 59,
   "metadata": {},
   "outputs": [
    {
     "data": {
      "text/plain": [
       "0.5990634801431285"
      ]
     },
     "execution_count": 59,
     "metadata": {},
     "output_type": "execute_result"
    }
   ],
   "source": [
    "13561/(13561+9075+1)"
   ]
  },
  {
   "cell_type": "markdown",
   "metadata": {},
   "source": [
    "#### Objective 3: How does demographics play into the rate of being stopped and frisked?"
   ]
  },
  {
   "cell_type": "code",
   "execution_count": 61,
   "metadata": {},
   "outputs": [],
   "source": [
    "df_dem=sqf[['FRISKED_FLAG', 'SEARCHED_FLAG', 'SUSPECT_BODY_BUILD_TYPE','SUSPECT_RACE_DESCRIPTION', 'SUSPECT_REPORTED_AGE', 'SUSPECT_SEX' ]]"
   ]
  },
  {
   "cell_type": "code",
   "execution_count": 62,
   "metadata": {},
   "outputs": [
    {
     "data": {
      "text/html": [
       "<div>\n",
       "<style scoped>\n",
       "    .dataframe tbody tr th:only-of-type {\n",
       "        vertical-align: middle;\n",
       "    }\n",
       "\n",
       "    .dataframe tbody tr th {\n",
       "        vertical-align: top;\n",
       "    }\n",
       "\n",
       "    .dataframe thead th {\n",
       "        text-align: right;\n",
       "    }\n",
       "</style>\n",
       "<table border=\"1\" class=\"dataframe\">\n",
       "  <thead>\n",
       "    <tr style=\"text-align: right;\">\n",
       "      <th></th>\n",
       "      <th>FRISKED_FLAG</th>\n",
       "      <th>SEARCHED_FLAG</th>\n",
       "      <th>SUSPECT_BODY_BUILD_TYPE</th>\n",
       "      <th>SUSPECT_RACE_DESCRIPTION</th>\n",
       "      <th>SUSPECT_REPORTED_AGE</th>\n",
       "      <th>SUSPECT_SEX</th>\n",
       "    </tr>\n",
       "  </thead>\n",
       "  <tbody>\n",
       "    <tr>\n",
       "      <td>0</td>\n",
       "      <td>N</td>\n",
       "      <td>N</td>\n",
       "      <td>THN</td>\n",
       "      <td>(null)</td>\n",
       "      <td>39</td>\n",
       "      <td>MALE</td>\n",
       "    </tr>\n",
       "    <tr>\n",
       "      <td>1</td>\n",
       "      <td>N</td>\n",
       "      <td>N</td>\n",
       "      <td>MED</td>\n",
       "      <td>(null)</td>\n",
       "      <td>37</td>\n",
       "      <td>MALE</td>\n",
       "    </tr>\n",
       "    <tr>\n",
       "      <td>2</td>\n",
       "      <td>N</td>\n",
       "      <td>N</td>\n",
       "      <td>THN</td>\n",
       "      <td>WHITE</td>\n",
       "      <td>(null)</td>\n",
       "      <td>FEMALE</td>\n",
       "    </tr>\n",
       "    <tr>\n",
       "      <td>3</td>\n",
       "      <td>Y</td>\n",
       "      <td>Y</td>\n",
       "      <td>U</td>\n",
       "      <td>BLACK HISPANIC</td>\n",
       "      <td>31</td>\n",
       "      <td>MALE</td>\n",
       "    </tr>\n",
       "    <tr>\n",
       "      <td>4</td>\n",
       "      <td>N</td>\n",
       "      <td>N</td>\n",
       "      <td>THN</td>\n",
       "      <td>BLACK</td>\n",
       "      <td>(null)</td>\n",
       "      <td>FEMALE</td>\n",
       "    </tr>\n",
       "  </tbody>\n",
       "</table>\n",
       "</div>"
      ],
      "text/plain": [
       "  FRISKED_FLAG SEARCHED_FLAG SUSPECT_BODY_BUILD_TYPE SUSPECT_RACE_DESCRIPTION  \\\n",
       "0            N             N                     THN                   (null)   \n",
       "1            N             N                     MED                   (null)   \n",
       "2            N             N                     THN                    WHITE   \n",
       "3            Y             Y                       U           BLACK HISPANIC   \n",
       "4            N             N                     THN                    BLACK   \n",
       "\n",
       "  SUSPECT_REPORTED_AGE SUSPECT_SEX  \n",
       "0                   39        MALE  \n",
       "1                   37        MALE  \n",
       "2               (null)      FEMALE  \n",
       "3                   31        MALE  \n",
       "4               (null)      FEMALE  "
      ]
     },
     "execution_count": 62,
     "metadata": {},
     "output_type": "execute_result"
    }
   ],
   "source": [
    "df_dem.head()"
   ]
  },
  {
   "cell_type": "code",
   "execution_count": 71,
   "metadata": {},
   "outputs": [
    {
     "data": {
      "text/plain": [
       "<matplotlib.axes._subplots.AxesSubplot at 0x174c66d3388>"
      ]
     },
     "execution_count": 71,
     "metadata": {},
     "output_type": "execute_result"
    },
    {
     "data": {
      "image/png": "[encoded data removed]",
      "text/plain": [
       "<Figure size 842.4x307.44 with 1 Axes>"
      ]
     },
     "metadata": {
      "needs_background": "light"
     },
     "output_type": "display_data"
    }
   ],
   "source": [
    "fig, ax = plt.subplots()\n",
    "# the size of A4 paper\n",
    "fig.set_size_inches(11.7, 4.27)\n",
    "sns.countplot(x='SUSPECT_RACE_DESCRIPTION', hue='FRISKED_FLAG', order = df_dem['SUSPECT_RACE_DESCRIPTION'].value_counts().index, data=df_dem)"
   ]
  },
  {
   "cell_type": "markdown",
   "metadata": {},
   "source": [
    "#### Objective 4: What is the rate of finding illegal weapons and/or substances while being frisked?"
   ]
  },
  {
   "cell_type": "markdown",
   "metadata": {},
   "source": [
    "#### Objective 5: Can we predict if a person is armed?"
   ]
  },
  {
   "cell_type": "code",
   "execution_count": 97,
   "metadata": {},
   "outputs": [],
   "source": [
    "#create dataframe with desired features\n",
    "df_pred=sqf[['FRISKED_FLAG', 'SEARCHED_FLAG','SUSPECT_RACE_DESCRIPTION', 'SUSPECT_REPORTED_AGE', 'SUSPECT_SEX', 'SUSPECTED_CRIME_DESCRIPTION', 'WEAPON_FOUND_FLAG','FIREARM_FLAG', 'KNIFE_CUTTER_FLAG', 'OTHER_WEAPON_FLAG', 'ISSUING_OFFICER_RANK', 'STOP_WAS_INITIATED' , 'STOP_DURATION_MINUTES' ]]"
   ]
  },
  {
   "cell_type": "code",
   "execution_count": 98,
   "metadata": {},
   "outputs": [
    {
     "name": "stdout",
     "output_type": "stream",
     "text": [
      "<class 'pandas.core.frame.DataFrame'>\n",
      "RangeIndex: 22637 entries, 0 to 22636\n",
      "Data columns (total 13 columns):\n",
      "FRISKED_FLAG                   22637 non-null object\n",
      "SEARCHED_FLAG                  22637 non-null object\n",
      "SUSPECT_RACE_DESCRIPTION       22637 non-null object\n",
      "SUSPECT_REPORTED_AGE           22637 non-null object\n",
      "SUSPECT_SEX                    22637 non-null object\n",
      "SUSPECTED_CRIME_DESCRIPTION    22637 non-null object\n",
      "WEAPON_FOUND_FLAG              22637 non-null object\n",
      "FIREARM_FLAG                   22637 non-null object\n",
      "KNIFE_CUTTER_FLAG              22637 non-null object\n",
      "OTHER_WEAPON_FLAG              22637 non-null object\n",
      "ISSUING_OFFICER_RANK           22637 non-null object\n",
      "STOP_WAS_INITIATED             22637 non-null object\n",
      "STOP_DURATION_MINUTES          22637 non-null int64\n",
      "dtypes: int64(1), object(12)\n",
      "memory usage: 2.2+ MB\n"
     ]
    }
   ],
   "source": [
    "df_pred.info()"
   ]
  },
  {
   "cell_type": "code",
   "execution_count": 101,
   "metadata": {},
   "outputs": [
    {
     "data": {
      "text/html": [
       "<div>\n",
       "<style scoped>\n",
       "    .dataframe tbody tr th:only-of-type {\n",
       "        vertical-align: middle;\n",
       "    }\n",
       "\n",
       "    .dataframe tbody tr th {\n",
       "        vertical-align: top;\n",
       "    }\n",
       "\n",
       "    .dataframe thead th {\n",
       "        text-align: right;\n",
       "    }\n",
       "</style>\n",
       "<table border=\"1\" class=\"dataframe\">\n",
       "  <thead>\n",
       "    <tr style=\"text-align: right;\">\n",
       "      <th></th>\n",
       "      <th>FRISKED_FLAG</th>\n",
       "      <th>SEARCHED_FLAG</th>\n",
       "      <th>SUSPECT_RACE_DESCRIPTION</th>\n",
       "      <th>SUSPECT_REPORTED_AGE</th>\n",
       "      <th>SUSPECT_SEX</th>\n",
       "      <th>SUSPECTED_CRIME_DESCRIPTION</th>\n",
       "      <th>WEAPON_FOUND_FLAG</th>\n",
       "      <th>FIREARM_FLAG</th>\n",
       "      <th>KNIFE_CUTTER_FLAG</th>\n",
       "      <th>OTHER_WEAPON_FLAG</th>\n",
       "      <th>ISSUING_OFFICER_RANK</th>\n",
       "      <th>STOP_WAS_INITIATED</th>\n",
       "      <th>STOP_DURATION_MINUTES</th>\n",
       "      <th>crime</th>\n",
       "      <th>race</th>\n",
       "    </tr>\n",
       "  </thead>\n",
       "  <tbody>\n",
       "    <tr>\n",
       "      <td>0</td>\n",
       "      <td>N</td>\n",
       "      <td>N</td>\n",
       "      <td>(null)</td>\n",
       "      <td>39</td>\n",
       "      <td>MALE</td>\n",
       "      <td>TERRORISM</td>\n",
       "      <td>N</td>\n",
       "      <td>(null)</td>\n",
       "      <td>(null)</td>\n",
       "      <td>(null)</td>\n",
       "      <td>SGT</td>\n",
       "      <td>Based on Self Initiated</td>\n",
       "      <td>90</td>\n",
       "      <td>27</td>\n",
       "      <td>0</td>\n",
       "    </tr>\n",
       "    <tr>\n",
       "      <td>1</td>\n",
       "      <td>N</td>\n",
       "      <td>N</td>\n",
       "      <td>(null)</td>\n",
       "      <td>37</td>\n",
       "      <td>MALE</td>\n",
       "      <td>TERRORISM</td>\n",
       "      <td>N</td>\n",
       "      <td>(null)</td>\n",
       "      <td>(null)</td>\n",
       "      <td>(null)</td>\n",
       "      <td>SGT</td>\n",
       "      <td>Based on Self Initiated</td>\n",
       "      <td>90</td>\n",
       "      <td>27</td>\n",
       "      <td>0</td>\n",
       "    </tr>\n",
       "    <tr>\n",
       "      <td>2</td>\n",
       "      <td>N</td>\n",
       "      <td>N</td>\n",
       "      <td>WHITE</td>\n",
       "      <td>(null)</td>\n",
       "      <td>FEMALE</td>\n",
       "      <td>OTHER</td>\n",
       "      <td>N</td>\n",
       "      <td>(null)</td>\n",
       "      <td>(null)</td>\n",
       "      <td>(null)</td>\n",
       "      <td>POM</td>\n",
       "      <td>Based on C/W on Scene</td>\n",
       "      <td>40</td>\n",
       "      <td>21</td>\n",
       "      <td>8</td>\n",
       "    </tr>\n",
       "    <tr>\n",
       "      <td>3</td>\n",
       "      <td>Y</td>\n",
       "      <td>Y</td>\n",
       "      <td>BLACK HISPANIC</td>\n",
       "      <td>31</td>\n",
       "      <td>MALE</td>\n",
       "      <td>GRAND LARCENY AUTO</td>\n",
       "      <td>N</td>\n",
       "      <td>(null)</td>\n",
       "      <td>(null)</td>\n",
       "      <td>(null)</td>\n",
       "      <td>POM</td>\n",
       "      <td>Based on Self Initiated</td>\n",
       "      <td>40</td>\n",
       "      <td>15</td>\n",
       "      <td>6</td>\n",
       "    </tr>\n",
       "    <tr>\n",
       "      <td>4</td>\n",
       "      <td>N</td>\n",
       "      <td>N</td>\n",
       "      <td>BLACK</td>\n",
       "      <td>(null)</td>\n",
       "      <td>FEMALE</td>\n",
       "      <td>BURGLARY</td>\n",
       "      <td>N</td>\n",
       "      <td>(null)</td>\n",
       "      <td>(null)</td>\n",
       "      <td>(null)</td>\n",
       "      <td>POM</td>\n",
       "      <td>Based on Radio Run</td>\n",
       "      <td>60</td>\n",
       "      <td>2</td>\n",
       "      <td>5</td>\n",
       "    </tr>\n",
       "  </tbody>\n",
       "</table>\n",
       "</div>"
      ],
      "text/plain": [
       "  FRISKED_FLAG SEARCHED_FLAG SUSPECT_RACE_DESCRIPTION SUSPECT_REPORTED_AGE  \\\n",
       "0            N             N                   (null)                   39   \n",
       "1            N             N                   (null)                   37   \n",
       "2            N             N                    WHITE               (null)   \n",
       "3            Y             Y           BLACK HISPANIC                   31   \n",
       "4            N             N                    BLACK               (null)   \n",
       "\n",
       "  SUSPECT_SEX SUSPECTED_CRIME_DESCRIPTION WEAPON_FOUND_FLAG FIREARM_FLAG  \\\n",
       "0        MALE                   TERRORISM                 N       (null)   \n",
       "1        MALE                   TERRORISM                 N       (null)   \n",
       "2      FEMALE                       OTHER                 N       (null)   \n",
       "3        MALE          GRAND LARCENY AUTO                 N       (null)   \n",
       "4      FEMALE                    BURGLARY                 N       (null)   \n",
       "\n",
       "  KNIFE_CUTTER_FLAG OTHER_WEAPON_FLAG ISSUING_OFFICER_RANK  \\\n",
       "0            (null)            (null)                  SGT   \n",
       "1            (null)            (null)                  SGT   \n",
       "2            (null)            (null)                  POM   \n",
       "3            (null)            (null)                  POM   \n",
       "4            (null)            (null)                  POM   \n",
       "\n",
       "        STOP_WAS_INITIATED  STOP_DURATION_MINUTES  crime  race  \n",
       "0  Based on Self Initiated                     90     27     0  \n",
       "1  Based on Self Initiated                     90     27     0  \n",
       "2    Based on C/W on Scene                     40     21     8  \n",
       "3  Based on Self Initiated                     40     15     6  \n",
       "4       Based on Radio Run                     60      2     5  "
      ]
     },
     "execution_count": 101,
     "metadata": {},
     "output_type": "execute_result"
    }
   ],
   "source": [
    "df_pred.head()"
   ]
  },
  {
   "cell_type": "code",
   "execution_count": 83,
   "metadata": {},
   "outputs": [],
   "source": [
    "df_pred['SUSPECT_RACE_DESCRIPTION']=df_pred['SUSPECT_RACE_DESCRIPTION'].astype(str)"
   ]
  },
  {
   "cell_type": "code",
   "execution_count": 100,
   "metadata": {},
   "outputs": [],
   "source": [
    "df_pred['SUSPECT_RACE_DESCRIPTION'] = df_pred['SUSPECT_RACE_DESCRIPTION'].astype('category')\n",
    "df_pred['race'] = df_pred['SUSPECT_RACE_DESCRIPTION'].cat.codes"
   ]
  },
  {
   "cell_type": "code",
   "execution_count": 99,
   "metadata": {},
   "outputs": [],
   "source": [
    "df_pred['SUSPECTED_CRIME_DESCRIPTION'] = df_pred['SUSPECTED_CRIME_DESCRIPTION'].astype('category')\n",
    "df_pred['crime'] = df_pred['SUSPECTED_CRIME_DESCRIPTION'].cat.codes"
   ]
  },
  {
   "cell_type": "code",
   "execution_count": null,
   "metadata": {},
   "outputs": [],
   "source": [
    "df_pred['SUSPECTED_CRIME_DESCRIPTION'] = df_pred['SUSPECTED_CRIME_DESCRIPTION'].astype('category')\n",
    "df_pred['crime'] = df_pred['SUSPECTED_CRIME_DESCRIPTION'].cat.codes"
   ]
  },
  {
   "cell_type": "code",
   "execution_count": 1,
   "metadata": {},
   "outputs": [
    {
     "ename": "NameError",
     "evalue": "name 'df_pred' is not defined",
     "output_type": "error",
     "traceback": [
      "\u001b[1;31m---------------------------------------------------------------------------\u001b[0m",
      "\u001b[1;31mNameError\u001b[0m                                 Traceback (most recent call last)",
      "\u001b[1;32m<ipython-input-1-bc76fabb4e45>\u001b[0m in \u001b[0;36m<module>\u001b[1;34m\u001b[0m\n\u001b[1;32m----> 1\u001b[1;33m \u001b[0mdf_pred\u001b[0m\u001b[1;33m.\u001b[0m\u001b[0mdtypes\u001b[0m\u001b[1;33m\u001b[0m\u001b[1;33m\u001b[0m\u001b[0m\n\u001b[0m",
      "\u001b[1;31mNameError\u001b[0m: name 'df_pred' is not defined"
     ]
    }
   ],
   "source": [
    "df_pred.dtypes"
   ]
  },
  {
   "cell_type": "code",
   "execution_count": null,
   "metadata": {},
   "outputs": [],
   "source": [
    "#function to change dataframe into working format for machine learning \n",
    "\n",
    "def mod_df(df):\n",
    "    #null to none in race\n",
    "    obj_df[\"body_style\"] = obj_df[\"body_style\"].astype('category')\n",
    "    return df\n"
   ]
  },
  {
   "cell_type": "code",
   "execution_count": null,
   "metadata": {},
   "outputs": [],
   "source": [
    "#create test train spilt\n",
    "from sklearn.model_selection import train_test_split\n",
    "\n",
    "X_train, X_test, y_train, y_test = train_test_split(df_all[['sale_rank']],df_all['connection'].astype(int),stratify=df_all['connection'].astype(int),random_state=0)"
   ]
  }
 ],
 "metadata": {
  "kernelspec": {
   "display_name": "Python 3",
   "language": "python",
   "name": "python3"
  },
  "language_info": {
   "codemirror_mode": {
    "name": "ipython",
    "version": 3
   },
   "file_extension": ".py",
   "mimetype": "text/x-python",
   "name": "python",
   "nbconvert_exporter": "python",
   "pygments_lexer": "ipython3",
   "version": "3.7.4"
  }
 },
 "nbformat": 4,
 "nbformat_minor": 4
}
