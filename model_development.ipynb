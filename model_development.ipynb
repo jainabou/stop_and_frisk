{
 "cells": [
  {
   "cell_type": "markdown",
   "metadata": {},
   "source": [
    "# SI671 Final Project Model Development"
   ]
  },
  {
   "cell_type": "code",
   "execution_count": 1,
   "metadata": {},
   "outputs": [],
   "source": [
    "#import packages\n",
    "import pandas as pd\n",
    "import networkx as nx\n",
    "import plotly.graph_objects as go\n",
    "import matplotlib.pyplot as plt\n",
    "import numpy as np\n",
    "import seaborn as sns\n",
    "import warnings\n",
    "warnings.filterwarnings(\"ignore\")"
   ]
  },
  {
   "cell_type": "code",
   "execution_count": 2,
   "metadata": {},
   "outputs": [],
   "source": [
    "#import 2017 data into pandas\n",
    "sqf_17 = pd.read_excel('data/sqf-2017.xlsx')\n",
    "#import 2018 data into pandas\n",
    "sqf_18 = pd.read_excel('data/sqf-2018.xlsx')\n",
    "\n",
    "#combine both dataframes\n",
    "sqf=sqf_17.append(sqf_18, ignore_index=True)"
   ]
  },
  {
   "cell_type": "code",
   "execution_count": 57,
   "metadata": {},
   "outputs": [
    {
     "data": {
      "text/plain": [
       "<matplotlib.axes._subplots.AxesSubplot at 0x24a4acbbdc8>"
      ]
     },
     "execution_count": 57,
     "metadata": {},
     "output_type": "execute_result"
    },
    {
     "data": {
      "image/png": "[encoded data removed]",
      "text/plain": [
       "<Figure size 842.4x307.44 with 1 Axes>"
      ]
     },
     "metadata": {
      "needs_background": "light"
     },
     "output_type": "display_data"
    }
   ],
   "source": [
    "fig, ax = plt.subplots()\n",
    "# the size of A4 paper\n",
    "fig.set_size_inches(11.7, 4.27)\n",
    "sns.countplot(x='SUSPECT_RACE_DESCRIPTION',  order = sqf['SUSPECT_RACE_DESCRIPTION'].value_counts().index, data=sqf)"
   ]
  },
  {
   "cell_type": "code",
   "execution_count": 3,
   "metadata": {},
   "outputs": [
    {
     "data": {
      "image/png": "[encoded data removed]",
      "text/plain": [
       "<Figure size 432x288 with 1 Axes>"
      ]
     },
     "metadata": {
      "needs_background": "light"
     },
     "output_type": "display_data"
    }
   ],
   "source": [
    "ax=sns.distplot(sqf[sqf['SUSPECT_REPORTED_AGE']!='(null)']['SUSPECT_REPORTED_AGE'])"
   ]
  },
  {
   "cell_type": "code",
   "execution_count": 4,
   "metadata": {},
   "outputs": [],
   "source": [
    "attributes=['SUSPECT_BODY_BUILD_TYPE', 'SUSPECT_RACE_DESCRIPTION', 'SUSPECT_REPORTED_AGE','SUSPECT_SEX','DEMEANOR_OF_PERSON_STOPPED','FRISKED_FLAG','SEARCHED_FLAG','WEAPON_FOUND_FLAG','SUSPECT_ARRESTED_FLAG','ISSUING_OFFICER_RANK','FIREARM_FLAG','KNIFE_CUTTER_FLAG','OBSERVED_DURATION_MINUTES','STOP_DURATION_MINUTES','STOP_LOCATION_BORO_NAME','SUMMONS_ISSUED_FLAG','SUSPECTED_CRIME_DESCRIPTION', 'PHYSICAL_FORCE_CEW_FLAG', 'PHYSICAL_FORCE_DRAW_POINT_FIREARM_FLAG', 'PHYSICAL_FORCE_HANDCUFF_SUSPECT_FLAG', 'PHYSICAL_FORCE_OC_SPRAY_USED_FLAG', 'PHYSICAL_FORCE_RESTRAINT_USED_FLAG']"
   ]
  },
  {
   "cell_type": "code",
   "execution_count": 5,
   "metadata": {},
   "outputs": [],
   "source": [
    "#keep desired columns for the model\n",
    "df=sqf[attributes]"
   ]
  },
  {
   "cell_type": "code",
   "execution_count": 6,
   "metadata": {},
   "outputs": [],
   "source": [
    "df_clean=pd.DataFrame()"
   ]
  },
  {
   "cell_type": "code",
   "execution_count": 14,
   "metadata": {},
   "outputs": [
    {
     "name": "stdout",
     "output_type": "stream",
     "text": [
      "<class 'pandas.core.frame.DataFrame'>\n",
      "RangeIndex: 22637 entries, 0 to 22636\n",
      "Data columns (total 22 columns):\n",
      "SUSPECT_BODY_BUILD_TYPE                   22637 non-null object\n",
      "SUSPECT_RACE_DESCRIPTION                  22637 non-null object\n",
      "SUSPECT_REPORTED_AGE                      22637 non-null object\n",
      "SUSPECT_SEX                               22637 non-null object\n",
      "DEMEANOR_OF_PERSON_STOPPED                21484 non-null object\n",
      "FRISKED_FLAG                              22637 non-null object\n",
      "SEARCHED_FLAG                             22637 non-null object\n",
      "WEAPON_FOUND_FLAG                         22637 non-null object\n",
      "SUSPECT_ARRESTED_FLAG                     22637 non-null object\n",
      "ISSUING_OFFICER_RANK                      22637 non-null object\n",
      "FIREARM_FLAG                              22637 non-null object\n",
      "KNIFE_CUTTER_FLAG                         22637 non-null object\n",
      "OBSERVED_DURATION_MINUTES                 22637 non-null int64\n",
      "STOP_DURATION_MINUTES                     22637 non-null int64\n",
      "STOP_LOCATION_BORO_NAME                   22637 non-null object\n",
      "SUMMONS_ISSUED_FLAG                       22637 non-null object\n",
      "SUSPECTED_CRIME_DESCRIPTION               22637 non-null object\n",
      "PHYSICAL_FORCE_CEW_FLAG                   22637 non-null object\n",
      "PHYSICAL_FORCE_DRAW_POINT_FIREARM_FLAG    22637 non-null object\n",
      "PHYSICAL_FORCE_HANDCUFF_SUSPECT_FLAG      22637 non-null object\n",
      "PHYSICAL_FORCE_OC_SPRAY_USED_FLAG         22637 non-null object\n",
      "PHYSICAL_FORCE_RESTRAINT_USED_FLAG        22637 non-null object\n",
      "dtypes: int64(2), object(20)\n",
      "memory usage: 3.8+ MB\n"
     ]
    }
   ],
   "source": [
    "df.info()"
   ]
  },
  {
   "cell_type": "code",
   "execution_count": 7,
   "metadata": {},
   "outputs": [],
   "source": [
    "#change each row to a categorical value for machine learning \n",
    "df['SUSPECT_BODY_BUILD_TYPE'] = df['SUSPECT_BODY_BUILD_TYPE'].astype('category')\n",
    "df_clean['build'] = df['SUSPECT_BODY_BUILD_TYPE'].cat.codes\n",
    "\n",
    "df['SUSPECT_RACE_DESCRIPTION'] = df['SUSPECT_RACE_DESCRIPTION'].astype('category')\n",
    "df_clean['race'] = df['SUSPECT_RACE_DESCRIPTION'].cat.codes\n",
    "\n",
    "df['SUSPECT_SEX'] = df['SUSPECT_SEX'].astype('category')\n",
    "df_clean['sex'] = df['SUSPECT_SEX'].cat.codes\n",
    "\n",
    "df['DEMEANOR_OF_PERSON_STOPPED'] = df['DEMEANOR_OF_PERSON_STOPPED'].astype('category')\n",
    "df_clean['demeanor'] = df['DEMEANOR_OF_PERSON_STOPPED'].cat.codes\n",
    "\n",
    "df['FRISKED_FLAG'] = df['FRISKED_FLAG'].astype('category')\n",
    "df_clean['frisked'] = df['FRISKED_FLAG'].cat.codes\n",
    "\n",
    "df['SEARCHED_FLAG'] = df['SEARCHED_FLAG'].astype('category')\n",
    "df_clean['searched'] = df['SEARCHED_FLAG'].cat.codes\n",
    "\n",
    "df['FIREARM_FLAG'] = df['FIREARM_FLAG'].astype('category')\n",
    "df_clean['firearm_sus'] = df['FIREARM_FLAG'].cat.codes\n",
    "\n",
    "df['WEAPON_FOUND_FLAG'] = df['WEAPON_FOUND_FLAG'].astype('category')\n",
    "df_clean['weapon_found'] = df['WEAPON_FOUND_FLAG'].cat.codes\n",
    "\n",
    "df['ISSUING_OFFICER_RANK'] = df['ISSUING_OFFICER_RANK'].astype('category')\n",
    "df_clean['officer_rank'] = df['ISSUING_OFFICER_RANK'].cat.codes\n",
    "\n",
    "df['KNIFE_CUTTER_FLAG'] = df['KNIFE_CUTTER_FLAG'].astype('category')\n",
    "df_clean['knife_sus'] = df['KNIFE_CUTTER_FLAG'].cat.codes\n",
    "\n",
    "df['STOP_LOCATION_BORO_NAME'] = df['STOP_LOCATION_BORO_NAME'].astype('category')\n",
    "df_clean['boro'] = df['STOP_LOCATION_BORO_NAME'].cat.codes\n",
    "\n",
    "df['SUSPECTED_CRIME_DESCRIPTION'] = df['SUSPECTED_CRIME_DESCRIPTION'].astype('category')\n",
    "df_clean['crime_sus'] = df['SUSPECTED_CRIME_DESCRIPTION'].cat.codes\n",
    "\n",
    "df['PHYSICAL_FORCE_CEW_FLAG'] = df['PHYSICAL_FORCE_CEW_FLAG'].astype('category')\n",
    "df_clean['phy_cew'] = df['PHYSICAL_FORCE_CEW_FLAG'].cat.codes\n",
    "\n",
    "df['PHYSICAL_FORCE_DRAW_POINT_FIREARM_FLAG'] = df['PHYSICAL_FORCE_DRAW_POINT_FIREARM_FLAG'].astype('category')\n",
    "df_clean['draw_weapon'] = df['PHYSICAL_FORCE_DRAW_POINT_FIREARM_FLAG'].cat.codes\n",
    "\n",
    "df['PHYSICAL_FORCE_HANDCUFF_SUSPECT_FLAG'] = df['PHYSICAL_FORCE_HANDCUFF_SUSPECT_FLAG'].astype('category')\n",
    "df_clean['handcuff'] = df['PHYSICAL_FORCE_HANDCUFF_SUSPECT_FLAG'].cat.codes\n",
    "\n",
    "df['PHYSICAL_FORCE_OC_SPRAY_USED_FLAG'] = df['PHYSICAL_FORCE_OC_SPRAY_USED_FLAG'].astype('category')\n",
    "df_clean['oc_spray'] = df['PHYSICAL_FORCE_OC_SPRAY_USED_FLAG'].cat.codes\n",
    "\n",
    "df['PHYSICAL_FORCE_RESTRAINT_USED_FLAG'] = df['PHYSICAL_FORCE_RESTRAINT_USED_FLAG'].astype('category')\n",
    "df_clean['restraint'] = df['PHYSICAL_FORCE_RESTRAINT_USED_FLAG'].cat.codes"
   ]
  },
  {
   "cell_type": "code",
   "execution_count": 8,
   "metadata": {},
   "outputs": [],
   "source": [
    "df['SUSPECT_REPORTED_AGE'].replace('(null)', 0,inplace=True)\n",
    "df_clean['age']=df['SUSPECT_REPORTED_AGE']\n",
    "df_clean['obs_min']=df['OBSERVED_DURATION_MINUTES']\n",
    "df_clean['stop_min']=df['STOP_DURATION_MINUTES']"
   ]
  },
  {
   "cell_type": "code",
   "execution_count": 39,
   "metadata": {},
   "outputs": [
    {
     "data": {
      "text/html": [
       "<div>\n",
       "<style scoped>\n",
       "    .dataframe tbody tr th:only-of-type {\n",
       "        vertical-align: middle;\n",
       "    }\n",
       "\n",
       "    .dataframe tbody tr th {\n",
       "        vertical-align: top;\n",
       "    }\n",
       "\n",
       "    .dataframe thead th {\n",
       "        text-align: right;\n",
       "    }\n",
       "</style>\n",
       "<table border=\"1\" class=\"dataframe\">\n",
       "  <thead>\n",
       "    <tr style=\"text-align: right;\">\n",
       "      <th></th>\n",
       "      <th>build</th>\n",
       "      <th>race</th>\n",
       "      <th>sex</th>\n",
       "      <th>demeanor</th>\n",
       "      <th>frisked</th>\n",
       "      <th>searched</th>\n",
       "      <th>firearm_sus</th>\n",
       "      <th>weapon_found</th>\n",
       "      <th>officer_rank</th>\n",
       "      <th>knife_sus</th>\n",
       "      <th>boro</th>\n",
       "      <th>crime_sus</th>\n",
       "      <th>phy_cew</th>\n",
       "      <th>draw_weapon</th>\n",
       "      <th>handcuff</th>\n",
       "      <th>oc_spray</th>\n",
       "      <th>restraint</th>\n",
       "      <th>age</th>\n",
       "      <th>obs_min</th>\n",
       "      <th>stop_min</th>\n",
       "    </tr>\n",
       "  </thead>\n",
       "  <tbody>\n",
       "    <tr>\n",
       "      <td>0</td>\n",
       "      <td>12</td>\n",
       "      <td>0</td>\n",
       "      <td>6</td>\n",
       "      <td>1896</td>\n",
       "      <td>0</td>\n",
       "      <td>1</td>\n",
       "      <td>0</td>\n",
       "      <td>1</td>\n",
       "      <td>13</td>\n",
       "      <td>0</td>\n",
       "      <td>10</td>\n",
       "      <td>27</td>\n",
       "      <td>0</td>\n",
       "      <td>0</td>\n",
       "      <td>0</td>\n",
       "      <td>0</td>\n",
       "      <td>0</td>\n",
       "      <td>39</td>\n",
       "      <td>10</td>\n",
       "      <td>90</td>\n",
       "    </tr>\n",
       "    <tr>\n",
       "      <td>1</td>\n",
       "      <td>10</td>\n",
       "      <td>0</td>\n",
       "      <td>6</td>\n",
       "      <td>1896</td>\n",
       "      <td>0</td>\n",
       "      <td>1</td>\n",
       "      <td>0</td>\n",
       "      <td>1</td>\n",
       "      <td>13</td>\n",
       "      <td>0</td>\n",
       "      <td>10</td>\n",
       "      <td>27</td>\n",
       "      <td>0</td>\n",
       "      <td>0</td>\n",
       "      <td>0</td>\n",
       "      <td>0</td>\n",
       "      <td>0</td>\n",
       "      <td>37</td>\n",
       "      <td>10</td>\n",
       "      <td>90</td>\n",
       "    </tr>\n",
       "    <tr>\n",
       "      <td>2</td>\n",
       "      <td>12</td>\n",
       "      <td>8</td>\n",
       "      <td>5</td>\n",
       "      <td>1535</td>\n",
       "      <td>0</td>\n",
       "      <td>1</td>\n",
       "      <td>0</td>\n",
       "      <td>1</td>\n",
       "      <td>11</td>\n",
       "      <td>0</td>\n",
       "      <td>10</td>\n",
       "      <td>21</td>\n",
       "      <td>0</td>\n",
       "      <td>0</td>\n",
       "      <td>0</td>\n",
       "      <td>0</td>\n",
       "      <td>0</td>\n",
       "      <td>0</td>\n",
       "      <td>1</td>\n",
       "      <td>40</td>\n",
       "    </tr>\n",
       "    <tr>\n",
       "      <td>3</td>\n",
       "      <td>13</td>\n",
       "      <td>6</td>\n",
       "      <td>6</td>\n",
       "      <td>864</td>\n",
       "      <td>2</td>\n",
       "      <td>2</td>\n",
       "      <td>0</td>\n",
       "      <td>1</td>\n",
       "      <td>11</td>\n",
       "      <td>0</td>\n",
       "      <td>10</td>\n",
       "      <td>15</td>\n",
       "      <td>0</td>\n",
       "      <td>0</td>\n",
       "      <td>1</td>\n",
       "      <td>0</td>\n",
       "      <td>0</td>\n",
       "      <td>31</td>\n",
       "      <td>2</td>\n",
       "      <td>40</td>\n",
       "    </tr>\n",
       "    <tr>\n",
       "      <td>4</td>\n",
       "      <td>12</td>\n",
       "      <td>5</td>\n",
       "      <td>5</td>\n",
       "      <td>313</td>\n",
       "      <td>0</td>\n",
       "      <td>1</td>\n",
       "      <td>0</td>\n",
       "      <td>1</td>\n",
       "      <td>11</td>\n",
       "      <td>0</td>\n",
       "      <td>10</td>\n",
       "      <td>2</td>\n",
       "      <td>0</td>\n",
       "      <td>0</td>\n",
       "      <td>1</td>\n",
       "      <td>0</td>\n",
       "      <td>0</td>\n",
       "      <td>0</td>\n",
       "      <td>1</td>\n",
       "      <td>60</td>\n",
       "    </tr>\n",
       "  </tbody>\n",
       "</table>\n",
       "</div>"
      ],
      "text/plain": [
       "   build  race  sex  demeanor  frisked  searched  firearm_sus  weapon_found  \\\n",
       "0     12     0    6      1896        0         1            0             1   \n",
       "1     10     0    6      1896        0         1            0             1   \n",
       "2     12     8    5      1535        0         1            0             1   \n",
       "3     13     6    6       864        2         2            0             1   \n",
       "4     12     5    5       313        0         1            0             1   \n",
       "\n",
       "   officer_rank  knife_sus  boro  crime_sus  phy_cew  draw_weapon  handcuff  \\\n",
       "0            13          0    10         27        0            0         0   \n",
       "1            13          0    10         27        0            0         0   \n",
       "2            11          0    10         21        0            0         0   \n",
       "3            11          0    10         15        0            0         1   \n",
       "4            11          0    10          2        0            0         1   \n",
       "\n",
       "   oc_spray  restraint  age  obs_min  stop_min  \n",
       "0         0          0   39       10        90  \n",
       "1         0          0   37       10        90  \n",
       "2         0          0    0        1        40  \n",
       "3         0          0   31        2        40  \n",
       "4         0          0    0        1        60  "
      ]
     },
     "execution_count": 39,
     "metadata": {},
     "output_type": "execute_result"
    }
   ],
   "source": [
    "df_clean.head()"
   ]
  },
  {
   "cell_type": "code",
   "execution_count": 9,
   "metadata": {},
   "outputs": [],
   "source": [
    "#remove a null weapon found rows\n",
    "df_clean=df_clean[df_clean.weapon_found != 0]"
   ]
  },
  {
   "cell_type": "code",
   "execution_count": 10,
   "metadata": {},
   "outputs": [],
   "source": [
    "#create test train spilt\n",
    "from sklearn.model_selection import train_test_split\n",
    "y=df_clean['weapon_found']\n",
    "x=df_clean.drop(columns=['weapon_found'])\n",
    "\n",
    "X_train, X_test, y_train, y_test = train_test_split(x,y,stratify=y,random_state=0)"
   ]
  },
  {
   "cell_type": "code",
   "execution_count": 12,
   "metadata": {},
   "outputs": [
    {
     "name": "stdout",
     "output_type": "stream",
     "text": [
      "Logistic Regression AUC ROC Score:  0.6586602017067494\n",
      "Logistic Regression Accuracy Score:  0.9259193776520509\n"
     ]
    }
   ],
   "source": [
    "#logistic Regression\n",
    "from sklearn.linear_model import LogisticRegression\n",
    "from sklearn import metrics\n",
    "\n",
    "logreg = LogisticRegression(solver='lbfgs').fit(X_train, y_train)\n",
    "lr_pred = logreg.predict(X_test)\n",
    "\n",
    "print('Logistic Regression AUC ROC Score: ', metrics.roc_auc_score(y_test,lr_pred))\n",
    "print('Logistic Regression Accuracy Score: ', metrics.accuracy_score(y_test,lr_pred))"
   ]
  },
  {
   "cell_type": "code",
   "execution_count": 13,
   "metadata": {},
   "outputs": [
    {
     "name": "stdout",
     "output_type": "stream",
     "text": [
      "RFC Classifier AUC ROC Score:  0.9386423584173778\n",
      "RFC Classifier Accuracy Score:  0.9869165487977369\n"
     ]
    }
   ],
   "source": [
    "#Random Forest\n",
    "from sklearn.ensemble import RandomForestClassifier\n",
    "\n",
    "rfc = RandomForestClassifier(random_state=0, n_jobs=-1).fit(X_train, y_train)\n",
    "rfc_pred = rfc.predict(X_test)\n",
    "\n",
    "print('RFC Classifier AUC ROC Score: ', metrics.roc_auc_score(y_test,rfc_pred))\n",
    "print('RFC Classifier Accuracy Score: ', rfc.score(X_test, y_test))"
   ]
  },
  {
   "cell_type": "code",
   "execution_count": 14,
   "metadata": {},
   "outputs": [
    {
     "name": "stdout",
     "output_type": "stream",
     "text": [
      "GBC Classifier AUC ROC Score:  0.9358363072148953\n",
      "GBC Classifier Accuracy Score:  0.9867397454031117\n"
     ]
    }
   ],
   "source": [
    "#gbc\n",
    "from sklearn.ensemble import GradientBoostingClassifier\n",
    "\n",
    "gbc=GradientBoostingClassifier().fit(X_train, y_train)\n",
    "gbc_pred=gbc.predict(X_test)\n",
    "\n",
    "print('GBC Classifier AUC ROC Score: ', metrics.roc_auc_score(y_test,gbc_pred))\n",
    "print('GBC Classifier Accuracy Score: ', gbc.score(X_test, y_test))"
   ]
  },
  {
   "cell_type": "code",
   "execution_count": null,
   "metadata": {},
   "outputs": [],
   "source": []
  },
  {
   "cell_type": "code",
   "execution_count": 15,
   "metadata": {},
   "outputs": [
    {
     "name": "stdout",
     "output_type": "stream",
     "text": [
      "0.9586280056577087 0.9267385570209464\n"
     ]
    }
   ],
   "source": [
    "# Naive Bayes \n",
    "from sklearn.naive_bayes import GaussianNB\n",
    "from sklearn.metrics import roc_curve, auc, f1_score\n",
    "\n",
    "gnb = GaussianNB().fit(X_train, y_train)\n",
    "test_score = gnb.score(X_test, y_test)\n",
    "y_pred = gnb.predict(X_test)\n",
    "test_f1_score = metrics.roc_auc_score(y_test,y_pred)\n",
    "\n",
    "print(test_score, test_f1_score)"
   ]
  },
  {
   "cell_type": "code",
   "execution_count": 16,
   "metadata": {},
   "outputs": [
    {
     "name": "stdout",
     "output_type": "stream",
     "text": [
      "0.9087694483734088 0.5481148176881303\n"
     ]
    }
   ],
   "source": [
    "from sklearn.neighbors import KNeighborsClassifier\n",
    "\n",
    "knn = KNeighborsClassifier(n_neighbors = 5)\n",
    "knn.fit(X_train, y_train)\n",
    "\n",
    "score=knn.score(X_test, y_test)\n",
    "y_pred = knn.predict(X_test)\n",
    "\n",
    "test_f1_score = metrics.roc_auc_score(y_test,y_pred)\n",
    "print(score, test_f1_score)"
   ]
  },
  {
   "cell_type": "code",
   "execution_count": 17,
   "metadata": {},
   "outputs": [
    {
     "data": {
      "text/html": [
       "<div>\n",
       "<style scoped>\n",
       "    .dataframe tbody tr th:only-of-type {\n",
       "        vertical-align: middle;\n",
       "    }\n",
       "\n",
       "    .dataframe tbody tr th {\n",
       "        vertical-align: top;\n",
       "    }\n",
       "\n",
       "    .dataframe thead th {\n",
       "        text-align: right;\n",
       "    }\n",
       "</style>\n",
       "<table border=\"1\" class=\"dataframe\">\n",
       "  <thead>\n",
       "    <tr style=\"text-align: right;\">\n",
       "      <th></th>\n",
       "      <th>importance</th>\n",
       "    </tr>\n",
       "  </thead>\n",
       "  <tbody>\n",
       "    <tr>\n",
       "      <td>knife_sus</td>\n",
       "      <td>0.459619</td>\n",
       "    </tr>\n",
       "    <tr>\n",
       "      <td>firearm_sus</td>\n",
       "      <td>0.244699</td>\n",
       "    </tr>\n",
       "    <tr>\n",
       "      <td>searched</td>\n",
       "      <td>0.060803</td>\n",
       "    </tr>\n",
       "    <tr>\n",
       "      <td>crime_sus</td>\n",
       "      <td>0.038438</td>\n",
       "    </tr>\n",
       "    <tr>\n",
       "      <td>age</td>\n",
       "      <td>0.036711</td>\n",
       "    </tr>\n",
       "    <tr>\n",
       "      <td>stop_min</td>\n",
       "      <td>0.036312</td>\n",
       "    </tr>\n",
       "    <tr>\n",
       "      <td>demeanor</td>\n",
       "      <td>0.030665</td>\n",
       "    </tr>\n",
       "    <tr>\n",
       "      <td>boro</td>\n",
       "      <td>0.016880</td>\n",
       "    </tr>\n",
       "    <tr>\n",
       "      <td>obs_min</td>\n",
       "      <td>0.016302</td>\n",
       "    </tr>\n",
       "    <tr>\n",
       "      <td>race</td>\n",
       "      <td>0.013068</td>\n",
       "    </tr>\n",
       "    <tr>\n",
       "      <td>build</td>\n",
       "      <td>0.011743</td>\n",
       "    </tr>\n",
       "    <tr>\n",
       "      <td>frisked</td>\n",
       "      <td>0.008734</td>\n",
       "    </tr>\n",
       "    <tr>\n",
       "      <td>officer_rank</td>\n",
       "      <td>0.008129</td>\n",
       "    </tr>\n",
       "    <tr>\n",
       "      <td>handcuff</td>\n",
       "      <td>0.004762</td>\n",
       "    </tr>\n",
       "    <tr>\n",
       "      <td>draw_weapon</td>\n",
       "      <td>0.004372</td>\n",
       "    </tr>\n",
       "    <tr>\n",
       "      <td>restraint</td>\n",
       "      <td>0.004334</td>\n",
       "    </tr>\n",
       "    <tr>\n",
       "      <td>sex</td>\n",
       "      <td>0.003829</td>\n",
       "    </tr>\n",
       "    <tr>\n",
       "      <td>phy_cew</td>\n",
       "      <td>0.000601</td>\n",
       "    </tr>\n",
       "    <tr>\n",
       "      <td>oc_spray</td>\n",
       "      <td>0.000000</td>\n",
       "    </tr>\n",
       "  </tbody>\n",
       "</table>\n",
       "</div>"
      ],
      "text/plain": [
       "              importance\n",
       "knife_sus       0.459619\n",
       "firearm_sus     0.244699\n",
       "searched        0.060803\n",
       "crime_sus       0.038438\n",
       "age             0.036711\n",
       "stop_min        0.036312\n",
       "demeanor        0.030665\n",
       "boro            0.016880\n",
       "obs_min         0.016302\n",
       "race            0.013068\n",
       "build           0.011743\n",
       "frisked         0.008734\n",
       "officer_rank    0.008129\n",
       "handcuff        0.004762\n",
       "draw_weapon     0.004372\n",
       "restraint       0.004334\n",
       "sex             0.003829\n",
       "phy_cew         0.000601\n",
       "oc_spray        0.000000"
      ]
     },
     "execution_count": 17,
     "metadata": {},
     "output_type": "execute_result"
    }
   ],
   "source": [
    "#Determine Important Features\n",
    "feature_importances = pd.DataFrame(rfc.feature_importances_,\n",
    "                                   index = X_train.columns,\n",
    "                                    columns=['importance']).sort_values('importance', ascending=False)\n",
    "feature_importances"
   ]
  },
  {
   "cell_type": "code",
   "execution_count": 21,
   "metadata": {},
   "outputs": [
    {
     "data": {
      "text/plain": [
       "<matplotlib.axes._subplots.AxesSubplot at 0x215c3cb9cc8>"
      ]
     },
     "execution_count": 21,
     "metadata": {},
     "output_type": "execute_result"
    },
    {
     "data": {
      "image/png": "[encoded data removed]",
      "text/plain": [
       "<Figure size 1490.4x307.44 with 1 Axes>"
      ]
     },
     "metadata": {
      "needs_background": "light"
     },
     "output_type": "display_data"
    }
   ],
   "source": [
    "fig, ax = plt.subplots()\n",
    "# the size of A4 paper\n",
    "fig.set_size_inches(20.7, 4.27)\n",
    "sns.barplot(x=feature_importances.index, y=\"importance\", data=feature_importances)"
   ]
  }
 ],
 "metadata": {
  "kernelspec": {
   "display_name": "Python 3",
   "language": "python",
   "name": "python3"
  },
  "language_info": {
   "codemirror_mode": {
    "name": "ipython",
    "version": 3
   },
   "file_extension": ".py",
   "mimetype": "text/x-python",
   "name": "python",
   "nbconvert_exporter": "python",
   "pygments_lexer": "ipython3",
   "version": "3.7.4"
  }
 },
 "nbformat": 4,
 "nbformat_minor": 4
}
